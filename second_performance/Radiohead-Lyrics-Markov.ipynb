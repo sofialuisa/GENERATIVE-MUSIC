{
 "cells": [
  {
   "cell_type": "markdown",
   "metadata": {},
   "source": [
    "# Markov Chain of Radiohead Lyrics. "
   ]
  },
  {
   "cell_type": "markdown",
   "metadata": {},
   "source": [
    "### Using Markov chains to analyse Radiohead lyrics data and predict new results."
   ]
  },
  {
   "cell_type": "markdown",
   "metadata": {},
   "source": [
    "I'm using allison parrish markov chain library available here: [this file](https://gist.github.com/aparrish/14cb94ce539a868e6b8714dd84003f06) \n",
    "(it's been referenced as `markov.py`)"
   ]
  },
  {
   "cell_type": "code",
   "execution_count": 1,
   "metadata": {
    "collapsed": true
   },
   "outputs": [],
   "source": [
    "from markov import *"
   ]
  },
  {
   "cell_type": "markdown",
   "metadata": {},
   "source": [
    "Creating 3 types of character level markov chains with different temperatures. "
   ]
  },
  {
   "cell_type": "code",
   "execution_count": 28,
   "metadata": {},
   "outputs": [],
   "source": [
    "radiohead_lyrics1 = [line.strip() for line in markov_generate_from_lines_in_file(3, open(\"radiohead_lyrics.txt\"), 100, \"char\")]\n",
    "radiohead_lyrics2 = [line.strip() for line in markov_generate_from_lines_in_file(4, open(\"radiohead_lyrics.txt\"), 100, \"char\")]\n",
    "radiohead_lyrics3 = [line.strip() for line in markov_generate_from_lines_in_file(5, open(\"radiohead_lyrics.txt\"), 100, \"char\")]"
   ]
  },
  {
   "cell_type": "markdown",
   "metadata": {},
   "source": [
    "Combining all of the different temperatures results into one."
   ]
  },
  {
   "cell_type": "code",
   "execution_count": 30,
   "metadata": {},
   "outputs": [],
   "source": [
    "radiohead_results = radiohead_lyrics1 + radiohead_lyrics2 + radiohead_lyrics3"
   ]
  },
  {
   "cell_type": "markdown",
   "metadata": {},
   "source": [
    "Getting random results to make a selection of results later. I'll choose 30 interesting phrases out of 300. "
   ]
  },
  {
   "cell_type": "code",
   "execution_count": 33,
   "metadata": {
    "collapsed": true
   },
   "outputs": [],
   "source": [
    "import random\n",
    "import textwrap"
   ]
  },
  {
   "cell_type": "code",
   "execution_count": 127,
   "metadata": {
    "scrolled": true
   },
   "outputs": [
    {
     "name": "stdout",
     "output_type": "stream",
     "text": [
      "I'll take me up\n",
      "Prove you now, what's house hell of stars me on the trapdoorway\n",
      "He talk about you take it but no, no, no\n",
      "Where cries networking blah blank shouldn't really man\n",
      "I'll over\n",
      "Snakes all hate\n",
      "From the moon full over can't hurts\n",
      "Rust could I'm lovery\n",
      "Get of hailors in andle\n",
      "a gutten by)\n"
     ]
    }
   ],
   "source": [
    "print('\\n'.join(random.sample(radiohead_results, 10)))"
   ]
  },
  {
   "cell_type": "code",
   "execution_count": 128,
   "metadata": {
    "collapsed": true
   },
   "outputs": [],
   "source": [
    "markov_selections = \"\"\"\\\n",
    "\n",
    "In red baby, or speakers \n",
    "I wanna know today?, \n",
    "You've got something big is not confusion a bug in sun away out all,\n",
    "Think that I'd been around around enough is eating the dark,\n",
    "You remember my drip feeds me,\n",
    "Nowhere wrong we got myself, no return,\n",
    "I am her me,\\n\n",
    "I get up get swept under anaesthetic,\n",
    "Everything on the worms,\n",
    "efil ym fathing,\n",
    "Take themselves and cents and standing on the weeds taking over toys for the words and sometimes,\\n\n",
    "We don't know I know,\\n\n",
    "Why don't reach out, don't leave,\n",
    "Do what I'm not,\\n\n",
    "Your face the wally sympatten you?,\n",
    "There there'll be no more lies,\n",
    "The one like a quiet down (that's what I had),\n",
    "You're lost myself, yes-yes, your mouth will mess you up,\n",
    "Suck, sucking on people,\n",
    "That the the world in the can't gets so last as I'd lone,\n",
    "In the thing walking sky,\n",
    "So why shout,\n",
    "Your dance are free unborn little by thout, done,\n",
    "But I'm a hearts makes and the head,\n",
    "And to little pland you know when I'm no righ,\n",
    "Denial, denial, denial,\n",
    "Turn climbing time,\n",
    "Breath you park the new found and emptiest want everythings into the heads down, I'm not want a perfect,\n",
    "He talk about you take it but no, no, no\n",
    "From the moon full over can't hurts\n",
    "\n",
    "\"\"\""
   ]
  },
  {
   "cell_type": "code",
   "execution_count": 132,
   "metadata": {},
   "outputs": [],
   "source": [
    "markov_selections_text = open(\"markov_selections_text.txt\").read()"
   ]
  },
  {
   "cell_type": "code",
   "execution_count": 133,
   "metadata": {},
   "outputs": [],
   "source": [
    "markov_selections_text_lines = [line.strip() for line in open(\"markov_selections_text.txt\")]"
   ]
  },
  {
   "cell_type": "code",
   "execution_count": 134,
   "metadata": {},
   "outputs": [
    {
     "name": "stdout",
     "output_type": "stream",
     "text": [
      "I wanna know today?,\n",
      "Breath you park the new found and emptiest want everythings into the heads down, I'm not want a perfect,\n",
      "I am her me,\n",
      "Think that I'd been around around enough is eating the dark,\n",
      "Do what I'm not,\n",
      "Nowhere wrong we got myself, no return,\n",
      "He talk about you take it but no, no, no\n",
      "So why shout,\n",
      "The one like a quiet down (that's what I had),\n",
      "I get up get swept under anaesthetic,\n",
      "And to little pland you know when I'm no righ,\n",
      "You're lost myself, yes-yes, your mouth will mess you up,\n",
      "That the the world in the can't gets so last as I'd lone,\n",
      "You've got something big is not confusion a bug in sun away out all,\n",
      "Denial, denial, denial,\n",
      "There there'll be no more lies,\n",
      "Suck, sucking on people,\n",
      "Take themselves and cents and standing on the weeds taking over toys for the words and sometimes,\\n\n",
      "Why don't reach out, don't leave,\n",
      "Turn climbing time,\n",
      "You remember my drip feeds me,\n",
      "Your dance are free unborn little by thout, done,\n",
      "efil ym fathing,\n",
      "In red baby, or speakers\n",
      "Everything on the worms,\n",
      "But I'm a hearts makes and the head,\n",
      "Your face the wally sympatten you?,\n",
      "From the moon full over can't hurts.\n",
      "In the thing walking sky,\n",
      "We don't know I know,\n"
     ]
    }
   ],
   "source": [
    "print('\\n'.join(random.sample(markov_selections_text_lines, 30)))"
   ]
  }
 ],
 "metadata": {
  "kernelspec": {
   "display_name": "Python 3",
   "language": "python",
   "name": "python3"
  },
  "language_info": {
   "codemirror_mode": {
    "name": "ipython",
    "version": 3
   },
   "file_extension": ".py",
   "mimetype": "text/x-python",
   "name": "python",
   "nbconvert_exporter": "python",
   "pygments_lexer": "ipython3",
   "version": "3.6.3"
  }
 },
 "nbformat": 4,
 "nbformat_minor": 2
}
